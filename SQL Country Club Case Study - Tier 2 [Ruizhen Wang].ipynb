{
 "cells": [
  {
   "cell_type": "code",
   "execution_count": 1,
   "id": "e9ec1180",
   "metadata": {},
   "outputs": [],
   "source": [
    "import sqlite3\n",
    "import pandas as pd\n",
    "import numpy"
   ]
  },
  {
   "cell_type": "code",
   "execution_count": 2,
   "id": "27b0e794",
   "metadata": {},
   "outputs": [
    {
     "name": "stdout",
     "output_type": "stream",
     "text": [
      "   facility_name  revenue\n",
      "0   Table Tennis      180\n",
      "1  Snooker Table      240\n",
      "2     Pool Table      270\n"
     ]
    }
   ],
   "source": [
    "# Connect to the SQLite database\n",
    "conn = sqlite3.connect('/Users/Ruizhen/Desktop/Springboard/SQLFiles Tier 2/sqlite_db_pythonsqlite.db')\n",
    "\n",
    "#Q10: Produce a list of facilities with a total revenue less than 1000.\n",
    "#The output of facility name and total revenue, sorted by revenue. \n",
    "#Remember that there's a different cost for guests and members! \n",
    "\n",
    "query = \"SELECT f.name AS facility_name, SUM(CASE WHEN b.memid = 0 THEN guestcost * slots ELSE membercost * slots END) AS revenue FROM Bookings AS b LEFT JOIN Facilities AS f ON b.facid = f.facid LEFT JOIN Members AS m ON b.memid = m.memid GROUP BY b.facid HAVING revenue <1000 ORDER BY revenue;\"\n",
    "df = pd.read_sql_query(query, conn)\n",
    "print(df)\n",
    "\n",
    "conn.close()"
   ]
  },
  {
   "cell_type": "code",
   "execution_count": 3,
   "id": "078c9c0a",
   "metadata": {},
   "outputs": [
    {
     "name": "stdout",
     "output_type": "stream",
     "text": [
      "                member_name      referrer_name\n",
      "0            Anna Mackenzie       Darren Smith\n",
      "1                Anne Baker    Ponder Stibbons\n",
      "2              Charles Owen       Darren Smith\n",
      "3               David Jones    Janice Joplette\n",
      "4              David Pinker     Jemima Farrell\n",
      "5             Douglas Jones        David Jones\n",
      "6             Erica Crumpet        Tracy Smith\n",
      "7            Florence Bader    Ponder Stibbons\n",
      "8            Gerald Butters       Darren Smith\n",
      "9          Henrietta Rumney    Matthew Genting\n",
      "10  Henry Worthington-Smyth        Tracy Smith\n",
      "11               Jack Smith       Darren Smith\n",
      "12          Janice Joplette       Darren Smith\n",
      "13              Joan Coplin      Timothy Baker\n",
      "14                John Hunt  Millicent Purview\n",
      "15          Matthew Genting     Gerald Butters\n",
      "16        Millicent Purview        Tracy Smith\n",
      "17               Nancy Dare    Janice Joplette\n",
      "18          Ponder Stibbons       Burton Tracy\n",
      "19         Ramnaresh Sarwin     Florence Bader\n",
      "20               Tim Boothe         Tim Rownam\n",
      "21            Timothy Baker     Jemima Farrell\n"
     ]
    }
   ],
   "source": [
    "# Connect to the SQLite database\n",
    "conn = sqlite3.connect('/Users/Ruizhen/Desktop/Springboard/SQLFiles Tier 2/sqlite_db_pythonsqlite.db')\n",
    "\n",
    "#Q11: Produce a report of members and who recommended them in alphabetic surname,firstname order */\n",
    "\n",
    "\n",
    "query = \"SELECT m1.firstname || ' ' || m1.surname AS member_name, m2.firstname || ' ' || m2.surname AS referrer_name FROM Members m1 INNER JOIN Members m2 ON m1.recommendedby = m2.memid WHERE m1.recommendedby > 0 ORDER BY member_name;\"\n",
    "\n",
    "df = pd.read_sql_query(query, conn)\n",
    "print(df)\n",
    "\n",
    "conn.close()\n"
   ]
  },
  {
   "cell_type": "code",
   "execution_count": 4,
   "id": "dab679ec",
   "metadata": {},
   "outputs": [
    {
     "name": "stdout",
     "output_type": "stream",
     "text": [
      "          facility  booking_amount_by_members  member_booking_percentage\n",
      "0       Pool Table                        783                        0.0\n",
      "1    Snooker Table                        421                        0.0\n",
      "2     Squash Court                        195                        0.0\n",
      "3   Massage Room 2                         27                        0.0\n",
      "4   Massage Room 1                        421                        0.0\n",
      "5     Table Tennis                        385                        0.0\n",
      "6  Badminton Court                        344                        0.0\n",
      "7   Tennis Court 2                        276                        0.0\n",
      "8   Tennis Court 1                        308                        0.0\n"
     ]
    }
   ],
   "source": [
    "# Connect to the SQLite database\n",
    "conn = sqlite3.connect('/Users/Ruizhen/Desktop/Springboard/SQLFiles Tier 2/sqlite_db_pythonsqlite.db')\n",
    "\n",
    "#Q12: Find the facilities with their usage by member, but not guests */\n",
    "\n",
    "\n",
    "query ='SELECT f.name AS facility, SUM(CASE WHEN b.memid != 0 THEN 1 ELSE 0 END) AS booking_amount_by_members, ROUND(SUM(CASE WHEN b.memid != 0 THEN 1 ELSE 0 END)/COUNT(b.bookid) * 100, 2) AS member_booking_percentage FROM Bookings AS b LEFT JOIN Facilities AS f ON b.facid = f.facid GROUP BY b.facid ORDER BY member_booking_percentage DESC;'\n",
    "\n",
    "df = pd.read_sql_query(query, conn)\n",
    "print(df)\n",
    "\n",
    "conn.close()"
   ]
  },
  {
   "cell_type": "code",
   "execution_count": 5,
   "id": "c5728983",
   "metadata": {},
   "outputs": [
    {
     "ename": "SyntaxError",
     "evalue": "invalid syntax (1711382226.py, line 7)",
     "output_type": "error",
     "traceback": [
      "\u001b[0;36m  Cell \u001b[0;32mIn[5], line 7\u001b[0;36m\u001b[0m\n\u001b[0;31m    query = 'SELECT f.name AS facility, DATE_FORMAT(starttime, '%Y-%m') AS month_year, SUM(CASE WHEN b.memid != 0 THEN 1 ELSE 0 END) AS booking_amount_by_members, ROUND((SUM(CASE WHEN b.memid != 0 THEN 1 ELSE 0 END) / COUNT(b.bookid)) * 100, 2) AS members_booking_percentage FROM Bookings AS b LEFT JOIN Facilities AS f ON b.facid = f.facid GROUP BY b.facid, month_year;'\u001b[0m\n\u001b[0m                                                                   ^\u001b[0m\n\u001b[0;31mSyntaxError\u001b[0m\u001b[0;31m:\u001b[0m invalid syntax\n"
     ]
    }
   ],
   "source": [
    "# Connect to the SQLite database\n",
    "conn = sqlite3.connect('/Users/Ruizhen/Desktop/Springboard/SQLFiles Tier 2/sqlite_db_pythonsqlite.db')\n",
    "\n",
    "#Q13: Find the facilities usage by month, but not guests */\n",
    "\n",
    "\n",
    "query = 'SELECT f.name AS facility, DATE_FORMAT(starttime, '%Y-%m') AS month_year, SUM(CASE WHEN b.memid != 0 THEN 1 ELSE 0 END) AS booking_amount_by_members, ROUND((SUM(CASE WHEN b.memid != 0 THEN 1 ELSE 0 END) / COUNT(b.bookid)) * 100, 2) AS members_booking_percentage FROM Bookings AS b LEFT JOIN Facilities AS f ON b.facid = f.facid GROUP BY b.facid, month_year;'\n",
    "df = pd.read_sql_query(query, conn)\n",
    "print(df)\n",
    "\n",
    "conn.close()\n"
   ]
  },
  {
   "cell_type": "code",
   "execution_count": null,
   "id": "79be105b",
   "metadata": {},
   "outputs": [],
   "source": []
  }
 ],
 "metadata": {
  "kernelspec": {
   "display_name": "Python 3 (ipykernel)",
   "language": "python",
   "name": "python3"
  },
  "language_info": {
   "codemirror_mode": {
    "name": "ipython",
    "version": 3
   },
   "file_extension": ".py",
   "mimetype": "text/x-python",
   "name": "python",
   "nbconvert_exporter": "python",
   "pygments_lexer": "ipython3",
   "version": "3.10.9"
  }
 },
 "nbformat": 4,
 "nbformat_minor": 5
}
