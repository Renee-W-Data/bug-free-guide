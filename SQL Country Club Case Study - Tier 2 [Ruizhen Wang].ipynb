{
 "cells": [
  {
   "cell_type": "code",
   "execution_count": 1,
   "id": "e9ec1180",
   "metadata": {},
   "outputs": [],
   "source": [
    "import sqlite3\n",
    "import pandas as pd\n",
    "import numpy"
   ]
  },
  {
   "cell_type": "code",
   "execution_count": 19,
   "id": "27b0e794",
   "metadata": {},
   "outputs": [
    {
     "name": "stdout",
     "output_type": "stream",
     "text": [
      "   facility_name  revenue\n",
      "0   Table Tennis      180\n",
      "1  Snooker Table      240\n",
      "2     Pool Table      270\n"
     ]
    }
   ],
   "source": [
    "# Connect to the SQLite database\n",
    "conn = sqlite3.connect('/Users/Ruizhen/Desktop/Springboard/SQLFiles Tier 2/sqlite_db_pythonsqlite.db')\n",
    "\n",
    "#Q10: Produce a list of facilities with a total revenue less than 1000.\n",
    "#The output of facility name and total revenue, sorted by revenue. \n",
    "#Remember that there's a different cost for guests and members! \n",
    "\n",
    "query = '''\n",
    "SELECT f.name AS facility_name, \n",
    "SUM(CASE WHEN b.memid = 0 THEN guestcost * slots ELSE membercost * slots END) AS revenue \n",
    "FROM Bookings AS b \n",
    "LEFT JOIN Facilities AS f \n",
    "ON b.facid = f.facid \n",
    "LEFT JOIN Members AS m \n",
    "ON b.memid = m.memid \n",
    "GROUP BY b.facid \n",
    "HAVING revenue <1000 ORDER BY revenue;\n",
    "'''\n",
    "\n",
    "df = pd.read_sql_query(query, conn)\n",
    "print(df)\n",
    "\n",
    "conn.close()"
   ]
  },
  {
   "cell_type": "code",
   "execution_count": 17,
   "id": "078c9c0a",
   "metadata": {},
   "outputs": [
    {
     "name": "stdout",
     "output_type": "stream",
     "text": [
      "                member_name      referrer_name\n",
      "0            Anna Mackenzie       Darren Smith\n",
      "1                Anne Baker    Ponder Stibbons\n",
      "2              Charles Owen       Darren Smith\n",
      "3               David Jones    Janice Joplette\n",
      "4              David Pinker     Jemima Farrell\n",
      "5             Douglas Jones        David Jones\n",
      "6             Erica Crumpet        Tracy Smith\n",
      "7            Florence Bader    Ponder Stibbons\n",
      "8            Gerald Butters       Darren Smith\n",
      "9          Henrietta Rumney    Matthew Genting\n",
      "10  Henry Worthington-Smyth        Tracy Smith\n",
      "11               Jack Smith       Darren Smith\n",
      "12          Janice Joplette       Darren Smith\n",
      "13              Joan Coplin      Timothy Baker\n",
      "14                John Hunt  Millicent Purview\n",
      "15          Matthew Genting     Gerald Butters\n",
      "16        Millicent Purview        Tracy Smith\n",
      "17               Nancy Dare    Janice Joplette\n",
      "18          Ponder Stibbons       Burton Tracy\n",
      "19         Ramnaresh Sarwin     Florence Bader\n",
      "20               Tim Boothe         Tim Rownam\n",
      "21            Timothy Baker     Jemima Farrell\n"
     ]
    }
   ],
   "source": [
    "# Connect to the SQLite database\n",
    "conn = sqlite3.connect('/Users/Ruizhen/Desktop/Springboard/SQLFiles Tier 2/sqlite_db_pythonsqlite.db')\n",
    "\n",
    "#Q11: Produce a report of members and who recommended them in alphabetic surname,firstname order */\n",
    "\n",
    "\n",
    "query = '''\n",
    "SELECT m1.firstname || ' ' || m1.surname AS member_name, \n",
    "m2.firstname || ' ' || m2.surname AS referrer_name \n",
    "FROM Members m1 INNER JOIN Members m2 \n",
    "ON m1.recommendedby = m2.memid WHERE m1.recommendedby > 0 ORDER BY member_name;\n",
    "'''\n",
    "\n",
    "df = pd.read_sql_query(query, conn)\n",
    "print(df)\n",
    "\n",
    "conn.close()\n"
   ]
  },
  {
   "cell_type": "code",
   "execution_count": 10,
   "id": "dab679ec",
   "metadata": {},
   "outputs": [
    {
     "name": "stdout",
     "output_type": "stream",
     "text": [
      "          facility  booking_amount_by_members  member_booking_percentage\n",
      "0     Table Tennis                        385                         95\n",
      "1    Snooker Table                        421                         94\n",
      "2       Pool Table                        783                         93\n",
      "3  Badminton Court                        344                         89\n",
      "4   Tennis Court 1                        308                         75\n",
      "5   Tennis Court 2                        276                         70\n",
      "6   Massage Room 1                        421                         66\n",
      "7     Squash Court                        195                         44\n",
      "8   Massage Room 2                         27                         24\n"
     ]
    }
   ],
   "source": [
    "# Connect to the SQLite database\n",
    "conn = sqlite3.connect('/Users/Ruizhen/Desktop/Springboard/SQLFiles Tier 2/sqlite_db_pythonsqlite.db')\n",
    "\n",
    "#Q12: Find the facilities with their usage by member, but not guests */\n",
    "\n",
    "\n",
    "query ='''\n",
    "SELECT f.name AS facility, SUM(CASE WHEN b.memid != 0 THEN 1 ELSE 0 END) AS booking_amount_by_members, \n",
    "SUM(CASE WHEN b.memid != 0 THEN 100 ELSE 0 END)/COUNT(b.bookid) AS member_booking_percentage \n",
    "FROM Bookings AS b LEFT JOIN Facilities AS f ON b.facid = f.facid \n",
    "GROUP BY b.facid ORDER BY member_booking_percentage DESC;\n",
    "'''\n",
    "df = pd.read_sql_query(query, conn)\n",
    "print(df)\n",
    "\n",
    "conn.close()"
   ]
  },
  {
   "cell_type": "code",
   "execution_count": 16,
   "id": "c5728983",
   "metadata": {},
   "outputs": [
    {
     "name": "stdout",
     "output_type": "stream",
     "text": [
      "           facility month_year  booking_by_members  member_booking_percent\n",
      "0    Tennis Court 1    2012-07                  65                      73\n",
      "1    Tennis Court 1    2012-08                 111                      76\n",
      "2    Tennis Court 1    2012-09                 132                      75\n",
      "3    Tennis Court 2    2012-07                  41                      60\n",
      "4    Tennis Court 2    2012-08                 109                      73\n",
      "5    Tennis Court 2    2012-09                 126                      73\n",
      "6   Badminton Court    2012-07                  51                      91\n",
      "7   Badminton Court    2012-08                 132                      90\n",
      "8   Badminton Court    2012-09                 161                      88\n",
      "9      Table Tennis    2012-07                  48                      94\n",
      "10     Table Tennis    2012-08                 143                      97\n",
      "11     Table Tennis    2012-09                 194                      94\n",
      "12   Massage Room 1    2012-07                  77                      62\n",
      "13   Massage Room 1    2012-08                 153                      68\n",
      "14   Massage Room 1    2012-09                 191                      67\n",
      "15   Massage Room 2    2012-07                   4                      33\n",
      "16   Massage Room 2    2012-08                   9                      22\n",
      "17   Massage Room 2    2012-09                  14                      23\n",
      "18     Squash Court    2012-07                  23                      30\n",
      "19     Squash Court    2012-08                  85                      50\n",
      "20     Squash Court    2012-09                  87                      44\n",
      "21    Snooker Table    2012-07                  68                      90\n",
      "22    Snooker Table    2012-08                 154                      96\n",
      "23    Snooker Table    2012-09                 199                      94\n",
      "24       Pool Table    2012-07                 103                      93\n",
      "25       Pool Table    2012-08                 272                      93\n",
      "26       Pool Table    2012-09                 408                      93\n"
     ]
    }
   ],
   "source": [
    "# Connect to the SQLite database\n",
    "conn = sqlite3.connect('/Users/Ruizhen/Desktop/Springboard/SQLFiles Tier 2/sqlite_db_pythonsqlite.db')\n",
    "\n",
    "#Q13: Find the facilities usage by month, but not guests */\n",
    "\n",
    "\n",
    "query = '''\n",
    "SELECT f.name AS facility, strftime(\"%Y-%m\", starttime) AS month_year, \n",
    "SUM(CASE WHEN b.memid != 0 THEN 1 ELSE 0 END) AS booking_by_members, \n",
    "SUM(CASE WHEN b.memid != 0 THEN 100 ELSE 0 END) / COUNT(b.bookid) AS member_booking_percent \n",
    "FROM Bookings AS b LEFT JOIN Facilities AS f ON b.facid = f.facid GROUP BY b.facid, month_year;\n",
    "'''\n",
    "\n",
    "df = pd.read_sql_query(query, conn)\n",
    "print(df)\n",
    "\n",
    "conn.close()\n"
   ]
  },
  {
   "cell_type": "code",
   "execution_count": null,
   "id": "79be105b",
   "metadata": {},
   "outputs": [],
   "source": []
  }
 ],
 "metadata": {
  "kernelspec": {
   "display_name": "Python 3 (ipykernel)",
   "language": "python",
   "name": "python3"
  },
  "language_info": {
   "codemirror_mode": {
    "name": "ipython",
    "version": 3
   },
   "file_extension": ".py",
   "mimetype": "text/x-python",
   "name": "python",
   "nbconvert_exporter": "python",
   "pygments_lexer": "ipython3",
   "version": "3.10.9"
  }
 },
 "nbformat": 4,
 "nbformat_minor": 5
}
